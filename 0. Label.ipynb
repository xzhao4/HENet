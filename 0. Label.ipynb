{
 "cells": [
  {
   "cell_type": "code",
   "execution_count": null,
   "id": "ba809974",
   "metadata": {
    "scrolled": true
   },
   "outputs": [],
   "source": [
    "import os\n",
    "import shutil\n",
    "import SimpleITK as sitk\n",
    "import numpy as np\n",
    "from functools import reduce\n",
    "import pandas as pd\n",
    "\n",
    "root = r'D:\\x'\n",
    "\n",
    "mask_info = []\n",
    "\n",
    "def get_mask_info(mask_path):\n",
    "    msk = sitk.ReadImage(mask_path)\n",
    "    spacing = msk.GetSpacing()\n",
    "    voxel_volume = reduce(lambda x, y: x*y, spacing)\n",
    "    msk_arr = sitk.GetArrayFromImage(msk)\n",
    "    voxels = [np.sum(msk_arr == spec_id) for spec_id in [1, 2]]\n",
    "    volume = [v * voxel_volume / 1000 for v in voxels]\n",
    "    return voxels + volume\n",
    "\n",
    "for subset in ['A', 'B', 'C']:\n",
    "    sample_dir = os.path.join(root, subset, 'masks')\n",
    "    samples = sorted(os.listdir(sample_dir))\n",
    "    for sample_pre, sample_post in zip(samples[::2], samples[1::2]):\n",
    "        pre = os.path.join(sample_dir, sample_pre)\n",
    "        post = os.path.join(sample_dir, sample_post)\n",
    "        for idx, c in enumerate(sample_pre):\n",
    "            if c.isdigit() and sample_pre[idx+1] != '_':\n",
    "                break\n",
    "        name = subset + '_' + sample_pre[:idx].replace('_', '')\n",
    "        mask_info.append([name] + get_mask_info(pre) + get_mask_info(post))\n",
    "mask_info = pd.DataFrame(mask_info, columns=['ID',\n",
    "                                             'l1_voxel_pre', 'l2_voxel_pre', 'l1_volume_pre', 'l2_volume_pre',\n",
    "                                             'l1_voxel_post', 'l2_voxel_post','l1_volume_post', 'l2_volume_post'])\n",
    "mask_info"
   ]
  },
  {
   "cell_type": "code",
   "execution_count": null,
   "id": "27b758eb",
   "metadata": {},
   "outputs": [],
   "source": [
    "# for subset in ['A', 'B', 'C']:\n",
    "#     sample_dir = os.path.join(root, subset, 'masks')\n",
    "#     samples = sorted(os.listdir(sample_dir))\n",
    "#     for sample_pre, sample_post in zip(samples[::2], samples[1::2]):\n",
    "#         if sample_pre[:10] != sample_post[:10]:\n",
    "#             print(subset, sample_pre[:10], sample_post[:10])"
   ]
  },
  {
   "cell_type": "code",
   "execution_count": null,
   "id": "3a231da9",
   "metadata": {},
   "outputs": [],
   "source": [
    "mask_info['l1_sub'] = mask_info['l1_volume_post'] - mask_info['l1_volume_pre']\n",
    "mask_info['l1_rela'] = mask_info['l1_sub'] / mask_info['l1_volume_pre']\n",
    "mask_info['l2_sub'] = mask_info['l2_volume_post'] - mask_info['l2_volume_pre']\n",
    "\n",
    "mask_info['label1'] = ((mask_info['l1_sub'] > 6) | (mask_info['l1_rela'] >= 0.33)).astype(int)\n",
    "mask_info['label2'] = ((mask_info['l1_sub'] > 6) | (mask_info['l1_rela'] >= 0.33) | (mask_info['l2_sub'] >= 0)).astype(int)\n",
    "mask_info['label3'] = ((mask_info['l1_sub'] > 6) | (mask_info['l1_rela'] >= 0.33) | (mask_info['l2_sub'] >= 1)).astype(int)\n",
    "mask_info.to_csv(os.path.join(root, 'mask_info.csv'), index=False)\n",
    "mask_info"
   ]
  },
  {
   "cell_type": "code",
   "execution_count": null,
   "id": "38c62292",
   "metadata": {},
   "outputs": [],
   "source": [
    "for l in ['label1', 'label2', 'label3']:\n",
    "    print(mask_info[l].value_counts())"
   ]
  },
  {
   "cell_type": "code",
   "execution_count": null,
   "id": "cbb6e742",
   "metadata": {},
   "outputs": [],
   "source": [
    "import pandas as pd\n",
    "import os\n",
    "root = r'D:\\x'\n",
    "clinic = pd.read_csv(os.path.join(root, 'Clinical_Radiological.csv'))\n",
    "clinic['ID'] = clinic['ID'].map(lambda x: x.replace(' ', '').upper())\n",
    "clinic"
   ]
  },
  {
   "cell_type": "code",
   "execution_count": null,
   "id": "41364405",
   "metadata": {},
   "outputs": [],
   "source": [
    "# from onekey_algo.custom.utils import print_join_info\n",
    "# print_join_info(clinic, mask_info)\n",
    "# all_clinic = pd.merge(clinic, mask_info, on='ID', how='inner')\n",
    "# all_clinic.to_csv(os.path.join(root, 'ALL.csv'), index=False)\n",
    "# all_clinic"
   ]
  },
  {
   "cell_type": "markdown",
   "id": "5f8b55cf",
   "metadata": {},
   "source": [
    "# Masks Transformation"
   ]
  },
  {
   "cell_type": "code",
   "execution_count": null,
   "id": "6b1c3b50",
   "metadata": {},
   "outputs": [],
   "source": [
    "import os\n",
    "import numpy as np\n",
    "import shutil\n",
    "import SimpleITK as sitk\n",
    "import numpy as np\n",
    "import pandas as pd\n",
    "\n",
    "root = r'D:\\x'\n",
    "\n",
    "for subset in ['A', 'B', 'C']:\n",
    "    sample_dir = os.path.join(root, subset, 'masks')\n",
    "    new_sample_dir = os.path.join(root, subset, 'masks_12')\n",
    "    os.makedirs(new_sample_dir, exist_ok=True)\n",
    "    samples = sorted(os.listdir(sample_dir))\n",
    "    for sample_pre in samples[::2]:\n",
    "        msk = sitk.ReadImage(os.path.join(sample_dir, sample_pre))\n",
    "        msk_arr = sitk.GetArrayFromImage(msk)\n",
    "        msk_arr_new = np.zeros_like(msk_arr)\n",
    "        msk_arr_new[(msk_arr == 1) | (msk_arr == 2)] = 1\n",
    "        msk_new = sitk.GetImageFromArray(msk_arr_new)\n",
    "        sitk.WriteImage(msk_new, os.path.join(new_sample_dir, sample_pre))"
   ]
  },
  {
   "cell_type": "markdown",
   "id": "6502b70f",
   "metadata": {},
   "source": [
    "# Generate 2.5D Data"
   ]
  },
  {
   "cell_type": "code",
   "execution_count": null,
   "id": "a3d77eac",
   "metadata": {},
   "outputs": [],
   "source": [
    "ids = set(clinic['ID'])"
   ]
  },
  {
   "cell_type": "code",
   "execution_count": null,
   "id": "e6bcce00",
   "metadata": {},
   "outputs": [],
   "source": [
    "from collections import defaultdict\n",
    "import glob\n",
    "data = defaultdict(list)\n",
    "\n",
    "images = {os.path.basename(f)[:30]: os.path.basename(os.path.dirname(os.path.dirname(f)))\n",
    "          for f in glob.glob(os.path.join(root, '*', 'images', '*.nii.gz'))}\n",
    "for f in sorted(os.listdir(os.path.join(root, 'crop'))):\n",
    "    subset = images[f[:30]]\n",
    "    for idx, c in enumerate(f):\n",
    "        if c.isdigit() and f[idx+1] != '_':\n",
    "            break\n",
    "    name = subset + '_' + f[:idx].replace('_', '')\n",
    "    data[name].append(os.path.join(root, 'crop', f))"
   ]
  },
  {
   "cell_type": "code",
   "execution_count": null,
   "id": "82c7b25f",
   "metadata": {},
   "outputs": [],
   "source": [
    "record = []\n",
    "\n",
    "for k in data:\n",
    "    data[k] = data[k] * 2\n",
    "    record.append([k] + data[k][:3])\n",
    "\n",
    "record = pd.DataFrame(record, columns=['ID', 'ori', '+2', '-2'])\n",
    "record"
   ]
  },
  {
   "cell_type": "code",
   "execution_count": null,
   "id": "5f3757a0",
   "metadata": {},
   "outputs": [],
   "source": [
    "from onekey_algo.custom.utils import print_join_info\n",
    "print_join_info(record, clinic)\n",
    "clinic = clinic[['label3'] + list(clinic.columns[:-3])]\n",
    "cohort = pd.merge(record, clinic, on='ID', how='inner')\n",
    "cohort['group'] = cohort['ID'].map(lambda x: 'train' if x.startswith('A_') else 'test')\n",
    "cohort"
   ]
  },
  {
   "cell_type": "code",
   "execution_count": null,
   "id": "c807c858",
   "metadata": {},
   "outputs": [],
   "source": [
    "cohort.to_csv('features/all.csv', index=False, header=True)\n",
    "cohort[cohort['group'] == 'train'][[c for c in cohort.columns if c not in ['group', 'ID']]].to_csv('features/train_l3.txt', \n",
    "                                                                                                   sep='\\t', index=False, header=False)\n",
    "cohort[cohort['group'] == 'test'][[c for c in cohort.columns if c not in ['group', 'ID']]].to_csv('features/val_l3.txt', \n",
    "                                                                                                  sep='\\t', index=False, header=False)"
   ]
  },
  {
   "cell_type": "code",
   "execution_count": null,
   "id": "9fe94255",
   "metadata": {},
   "outputs": [],
   "source": [
    "cohort[cohort['group'] == 'train'][['ori', 'label3']].to_csv('features/train2d_l3.txt', sep='\\t', index=False, header=False)\n",
    "cohort[cohort['group'] == 'test'][['ori', 'label3']].to_csv('features/val2d_l3.txt', sep='\\t', index=False, header=False)"
   ]
  },
  {
   "cell_type": "code",
   "execution_count": null,
   "id": "1338d562",
   "metadata": {},
   "outputs": [],
   "source": []
  }
 ],
 "metadata": {
  "kernelspec": {
   "display_name": "Python 3 (ipykernel)",
   "language": "python",
   "name": "python3"
  },
  "language_info": {
   "codemirror_mode": {
    "name": "ipython",
    "version": 3
   },
   "file_extension": ".py",
   "mimetype": "text/x-python",
   "name": "python",
   "nbconvert_exporter": "python",
   "pygments_lexer": "ipython3",
   "version": "3.11.3"
  }
 },
 "nbformat": 4,
 "nbformat_minor": 5
}
