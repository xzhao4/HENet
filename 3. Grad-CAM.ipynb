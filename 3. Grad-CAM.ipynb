{
 "cells": [
  {
   "cell_type": "code",
   "execution_count": 2,
   "id": "a7fa11b3",
   "metadata": {},
   "outputs": [],
   "source": [
    "import os\n",
    "from onekey_algo import get_param_in_cwd\n",
    "os.environ['KMP_DUPLICATE_LIB_OK'] = 'True'\n",
    "\n",
    "import monai\n",
    "from glob import glob\n",
    "import pandas as pd\n",
    "import matplotlib.pyplot as plt\n",
    "\n",
    "root = r'D:\\x'"
   ]
  },
  {
   "cell_type": "code",
   "execution_count": null,
   "id": "5048302a",
   "metadata": {},
   "outputs": [],
   "source": [
    "from onekey_algo.custom.components.comp2 import extract, init_from_model, init_from_onekey\n",
    "from onekey_algo.datasets.image_loader import default_loader\n",
    "from onekey_algo.custom.components.comp2 import show_cam_on_image\n",
    "import torch\n",
    "import os\n",
    "\n",
    "model, transformer, device = init_from_onekey(rf'D:\\x\\viz')\n",
    "#     for n, m in model.named_modules():\n",
    "#         print('Feature name:', n, \"|| Module:\", m)\n",
    "target_layer = \"layer4.2.conv3\"\n",
    "gradcam = monai.visualize.GradCAM(nn_module=model, target_layers=target_layer)\n",
    "\n",
    "save_dir = os.path.join(root, f\"viz\")\n",
    "os.makedirs(save_dir, exist_ok=True)\n",
    "samples = glob(os.path.join(root, 'crop', '*.png'))\n",
    "for sample in samples:\n",
    "#     if not os.path.exists(sample) or os.path.exists(rf'D:\\2023\\viz/{os.path.basename(sample)}'):\n",
    "#         continue\n",
    "    img = default_loader(sample)\n",
    "    sample_ = transformer(img)\n",
    "    sample_  = sample_.view(1, *sample_.size()).to(device)\n",
    "    res_cam = gradcam(x=sample_, class_idx=None)\n",
    "    fig, axes = plt.subplots(1, 2, figsize=(20, 10), facecolor='white')\n",
    "#     axes[0].imshow(-res_cam[0][0].cpu(), cmap='jet')\n",
    "    axes[0].imshow(img.resize(sample_.size()[2:]))\n",
    "    axes[0].axis('off')\n",
    "#     plt.savefig(f\"viz/{os.path.basename(sample).replace('.png', '_se.png')}\", bbox_inches = 'tight')\n",
    "#     plt.show()\n",
    "#     plt.figure(figsize=(10, 10))\n",
    "#     plt.axis('off')\n",
    "    axes[1].imshow(show_cam_on_image(img.resize(sample_.size()[2:]), -res_cam[0][0].cpu(), use_rgb=True, reverse=False))\n",
    "    axes[1].axis('off')\n",
    "    plt.savefig(rf'{save_dir}/{os.path.basename(sample)}', bbox_inches = 'tight')\n",
    "    plt.close()"
   ]
  }
 ],
 "metadata": {
  "kernelspec": {
   "display_name": "Python 3 (ipykernel)",
   "language": "python",
   "name": "python3"
  },
  "language_info": {
   "codemirror_mode": {
    "name": "ipython",
    "version": 3
   },
   "file_extension": ".py",
   "mimetype": "text/x-python",
   "name": "python",
   "nbconvert_exporter": "python",
   "pygments_lexer": "ipython3",
   "version": "3.11.3"
  }
 },
 "nbformat": 4,
 "nbformat_minor": 5
}
