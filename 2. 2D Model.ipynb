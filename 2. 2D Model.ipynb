{
 "cells": [
  {
   "cell_type": "code",
   "execution_count": null,
   "metadata": {},
   "outputs": [],
   "source": [
    "import os\n",
    "from onekey_algo.classification.run_classification import main as clf_main\n",
    "from collections import namedtuple\n",
    "\n",
    "# 设置参数\n",
    "save_dir = r'D:\\x'\n",
    "train_f = r'features/train2d_l3.txt'\n",
    "val_f = r'features/val2d_l3.txt'\n",
    "labels_f = r'features/labels.txt'\n",
    "data_pattern = r''\n",
    "\n",
    "for model_name in ['resnet50', 'resnet101', 'resnet18']:\n",
    "    params = dict(train=train_f,\n",
    "                  valid=val_f,\n",
    "                  labels_file=labels_f,\n",
    "                  data_pattern=data_pattern,\n",
    "                  j=0,\n",
    "                  max2use=None,\n",
    "                  val_max2use=None,\n",
    "                  batch_balance=False,\n",
    "                  normalize_method='imagenet',\n",
    "                  model_name=model_name,\n",
    "                  gpus=[0],\n",
    "                  batch_size=32,\n",
    "                  epochs=30,\n",
    "                  init_lr=0.01,\n",
    "                  optimizer='sgd',\n",
    "                  retrain=None,\n",
    "                  model_root=os.path.join(save_dir, 'label3/models2d'),\n",
    "                  add_date=False,\n",
    "                  iters_start=0,\n",
    "                  iters_verbose=4,\n",
    "                  save_per_epoch=False,\n",
    "                  pretrained=True)\n",
    "    # 训练模型\n",
    "    Args = namedtuple(\"Args\", params)\n",
    "    clf_main(Args(**params))"
   ]
  }
 ],
 "metadata": {
  "kernelspec": {
   "display_name": "Python 3 (ipykernel)",
   "language": "python",
   "name": "python3"
  },
  "language_info": {
   "codemirror_mode": {
    "name": "ipython",
    "version": 3
   },
   "file_extension": ".py",
   "mimetype": "text/x-python",
   "name": "python",
   "nbconvert_exporter": "python",
   "pygments_lexer": "ipython3",
   "version": "3.11.3"
  }
 },
 "nbformat": 4,
 "nbformat_minor": 4
}
